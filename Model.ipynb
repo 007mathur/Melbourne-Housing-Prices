{
 "metadata": {
  "language_info": {
   "codemirror_mode": {
    "name": "ipython",
    "version": 3
   },
   "file_extension": ".py",
   "mimetype": "text/x-python",
   "name": "python",
   "nbconvert_exporter": "python",
   "pygments_lexer": "ipython3",
   "version": "3.8.2-final"
  },
  "orig_nbformat": 2,
  "kernelspec": {
   "name": "python_defaultSpec_1598606593700",
   "display_name": "Python 3.8.2 64-bit"
  }
 },
 "nbformat": 4,
 "nbformat_minor": 2,
 "cells": [
  {
   "cell_type": "markdown",
   "metadata": {},
   "source": [
    "# Housing Price Model"
   ]
  },
  {
   "cell_type": "markdown",
   "metadata": {},
   "source": [
    "## Importing Libraries and Data"
   ]
  },
  {
   "cell_type": "code",
   "execution_count": 88,
   "metadata": {},
   "outputs": [],
   "source": [
    "import numpy as np \n",
    "import pandas as pd \n",
    "import matplotlib.pyplot as plt \n",
    "import seaborn as sns"
   ]
  },
  {
   "cell_type": "code",
   "execution_count": 89,
   "metadata": {},
   "outputs": [],
   "source": [
    "data = pd.read_csv(r\"D:\\Utkarsh Mathur\\Career\\Data Science\\Datasets\\melbourne housing snapshot\\melb_data.csv\")"
   ]
  },
  {
   "cell_type": "markdown",
   "metadata": {},
   "source": [
    "## Data Pre-processing and  Preparation"
   ]
  },
  {
   "cell_type": "code",
   "execution_count": 90,
   "metadata": {},
   "outputs": [
    {
     "output_type": "execute_result",
     "data": {
      "text/plain": "Suburb              0\nAddress             0\nRooms               0\nType                0\nPrice               0\nMethod              0\nSellerG             0\nDate                0\nDistance            0\nPostcode            0\nBedroom2            0\nBathroom            0\nCar                62\nLandsize            0\nBuildingArea     6450\nYearBuilt        5375\nCouncilArea      1369\nLattitude           0\nLongtitude          0\nRegionname          0\nPropertycount       0\ndtype: int64"
     },
     "metadata": {},
     "execution_count": 90
    }
   ],
   "source": [
    "data.isnull().sum()"
   ]
  },
  {
   "cell_type": "code",
   "execution_count": 91,
   "metadata": {},
   "outputs": [
    {
     "output_type": "execute_result",
     "data": {
      "text/plain": "Suburb              0\nAddress             0\nRooms               0\nType                0\nPrice               0\nMethod              0\nSellerG             0\nDate                0\nDistance            0\nPostcode            0\nBedroom2            0\nBathroom            0\nCar                 0\nLandsize            0\nBuildingArea     6450\nYearBuilt        5375\nCouncilArea      1369\nLattitude           0\nLongtitude          0\nRegionname          0\nPropertycount       0\ndtype: int64"
     },
     "metadata": {},
     "execution_count": 91
    }
   ],
   "source": [
    "data.Car = data.Car.fillna(data.Car.median())\n",
    "data.isnull().sum()"
   ]
  },
  {
   "cell_type": "markdown",
   "metadata": {},
   "source": [
    "Initially the data has 20 features and a price columns. But we need to remove some of the uncessary and overlapping features so as to make a better data.<br>\n",
    "<br>\n",
    "I'm decribing why all the features are removed:<br>\n",
    "1) **Date** :- As the data is from a very short span of time the variance in prices with time will be negligible.<br>\n",
    "2) **BuildingArea** :- Due to large number of empty data.<br>\n",
    "3) **YearBuilt** :- Due to large number of empty data.<br>\n",
    "4) **CouncilArea** :- Again in a state the council area doesnot makes much of a difference in the prices of houses.<br>\n",
    "5) **Address** :- As address is a string which is different for every house, it does not make sense to use it in prediciting price.<br>"
   ]
  },
  {
   "cell_type": "code",
   "execution_count": 92,
   "metadata": {},
   "outputs": [
    {
     "output_type": "execute_result",
     "data": {
      "text/plain": "       Suburb  Rooms Type      Price Method SellerG  Distance  Postcode  \\\n0  Abbotsford      2    h  1480000.0      S  Biggin       2.5    3067.0   \n1  Abbotsford      2    h  1035000.0      S  Biggin       2.5    3067.0   \n2  Abbotsford      3    h  1465000.0     SP  Biggin       2.5    3067.0   \n3  Abbotsford      3    h   850000.0     PI  Biggin       2.5    3067.0   \n4  Abbotsford      4    h  1600000.0     VB  Nelson       2.5    3067.0   \n\n   Bedroom2  Bathroom  Car  Landsize  Lattitude  Longtitude  \\\n0       2.0       1.0  1.0     202.0   -37.7996    144.9984   \n1       2.0       1.0  0.0     156.0   -37.8079    144.9934   \n2       3.0       2.0  0.0     134.0   -37.8093    144.9944   \n3       3.0       2.0  1.0      94.0   -37.7969    144.9969   \n4       3.0       1.0  2.0     120.0   -37.8072    144.9941   \n\n              Regionname  Propertycount  \n0  Northern Metropolitan         4019.0  \n1  Northern Metropolitan         4019.0  \n2  Northern Metropolitan         4019.0  \n3  Northern Metropolitan         4019.0  \n4  Northern Metropolitan         4019.0  ",
      "text/html": "<div>\n<style scoped>\n    .dataframe tbody tr th:only-of-type {\n        vertical-align: middle;\n    }\n\n    .dataframe tbody tr th {\n        vertical-align: top;\n    }\n\n    .dataframe thead th {\n        text-align: right;\n    }\n</style>\n<table border=\"1\" class=\"dataframe\">\n  <thead>\n    <tr style=\"text-align: right;\">\n      <th></th>\n      <th>Suburb</th>\n      <th>Rooms</th>\n      <th>Type</th>\n      <th>Price</th>\n      <th>Method</th>\n      <th>SellerG</th>\n      <th>Distance</th>\n      <th>Postcode</th>\n      <th>Bedroom2</th>\n      <th>Bathroom</th>\n      <th>Car</th>\n      <th>Landsize</th>\n      <th>Lattitude</th>\n      <th>Longtitude</th>\n      <th>Regionname</th>\n      <th>Propertycount</th>\n    </tr>\n  </thead>\n  <tbody>\n    <tr>\n      <th>0</th>\n      <td>Abbotsford</td>\n      <td>2</td>\n      <td>h</td>\n      <td>1480000.0</td>\n      <td>S</td>\n      <td>Biggin</td>\n      <td>2.5</td>\n      <td>3067.0</td>\n      <td>2.0</td>\n      <td>1.0</td>\n      <td>1.0</td>\n      <td>202.0</td>\n      <td>-37.7996</td>\n      <td>144.9984</td>\n      <td>Northern Metropolitan</td>\n      <td>4019.0</td>\n    </tr>\n    <tr>\n      <th>1</th>\n      <td>Abbotsford</td>\n      <td>2</td>\n      <td>h</td>\n      <td>1035000.0</td>\n      <td>S</td>\n      <td>Biggin</td>\n      <td>2.5</td>\n      <td>3067.0</td>\n      <td>2.0</td>\n      <td>1.0</td>\n      <td>0.0</td>\n      <td>156.0</td>\n      <td>-37.8079</td>\n      <td>144.9934</td>\n      <td>Northern Metropolitan</td>\n      <td>4019.0</td>\n    </tr>\n    <tr>\n      <th>2</th>\n      <td>Abbotsford</td>\n      <td>3</td>\n      <td>h</td>\n      <td>1465000.0</td>\n      <td>SP</td>\n      <td>Biggin</td>\n      <td>2.5</td>\n      <td>3067.0</td>\n      <td>3.0</td>\n      <td>2.0</td>\n      <td>0.0</td>\n      <td>134.0</td>\n      <td>-37.8093</td>\n      <td>144.9944</td>\n      <td>Northern Metropolitan</td>\n      <td>4019.0</td>\n    </tr>\n    <tr>\n      <th>3</th>\n      <td>Abbotsford</td>\n      <td>3</td>\n      <td>h</td>\n      <td>850000.0</td>\n      <td>PI</td>\n      <td>Biggin</td>\n      <td>2.5</td>\n      <td>3067.0</td>\n      <td>3.0</td>\n      <td>2.0</td>\n      <td>1.0</td>\n      <td>94.0</td>\n      <td>-37.7969</td>\n      <td>144.9969</td>\n      <td>Northern Metropolitan</td>\n      <td>4019.0</td>\n    </tr>\n    <tr>\n      <th>4</th>\n      <td>Abbotsford</td>\n      <td>4</td>\n      <td>h</td>\n      <td>1600000.0</td>\n      <td>VB</td>\n      <td>Nelson</td>\n      <td>2.5</td>\n      <td>3067.0</td>\n      <td>3.0</td>\n      <td>1.0</td>\n      <td>2.0</td>\n      <td>120.0</td>\n      <td>-37.8072</td>\n      <td>144.9941</td>\n      <td>Northern Metropolitan</td>\n      <td>4019.0</td>\n    </tr>\n  </tbody>\n</table>\n</div>"
     },
     "metadata": {},
     "execution_count": 92
    }
   ],
   "source": [
    "data1 = data.drop(['Address','BuildingArea', 'YearBuilt', 'CouncilArea', 'Date'], axis=1)\n",
    "data1.head()"
   ]
  },
  {
   "cell_type": "code",
   "execution_count": 93,
   "metadata": {},
   "outputs": [],
   "source": [
    "from sklearn.preprocessing import LabelEncoder\n",
    "lb = LabelEncoder()"
   ]
  },
  {
   "cell_type": "code",
   "execution_count": 94,
   "metadata": {},
   "outputs": [
    {
     "output_type": "execute_result",
     "data": {
      "text/plain": "   Suburb  Rooms  Type      Price  Method  SellerG  Distance  Postcode  \\\n0       0      2     0  1480000.0       1       23       2.5        53   \n1       0      2     0  1035000.0       1       23       2.5        53   \n2       0      3     0  1465000.0       3       23       2.5        53   \n3       0      3     0   850000.0       0       23       2.5        53   \n4       0      4     0  1600000.0       4      155       2.5        53   \n\n   Bedroom2  Bathroom  Car  Landsize  Lattitude  Longtitude  Regionname  \\\n0       2.0       1.0  1.0     202.0   -37.7996    144.9984           2   \n1       2.0       1.0  0.0     156.0   -37.8079    144.9934           2   \n2       3.0       2.0  0.0     134.0   -37.8093    144.9944           2   \n3       3.0       2.0  1.0      94.0   -37.7969    144.9969           2   \n4       3.0       1.0  2.0     120.0   -37.8072    144.9941           2   \n\n   Propertycount  \n0         4019.0  \n1         4019.0  \n2         4019.0  \n3         4019.0  \n4         4019.0  ",
      "text/html": "<div>\n<style scoped>\n    .dataframe tbody tr th:only-of-type {\n        vertical-align: middle;\n    }\n\n    .dataframe tbody tr th {\n        vertical-align: top;\n    }\n\n    .dataframe thead th {\n        text-align: right;\n    }\n</style>\n<table border=\"1\" class=\"dataframe\">\n  <thead>\n    <tr style=\"text-align: right;\">\n      <th></th>\n      <th>Suburb</th>\n      <th>Rooms</th>\n      <th>Type</th>\n      <th>Price</th>\n      <th>Method</th>\n      <th>SellerG</th>\n      <th>Distance</th>\n      <th>Postcode</th>\n      <th>Bedroom2</th>\n      <th>Bathroom</th>\n      <th>Car</th>\n      <th>Landsize</th>\n      <th>Lattitude</th>\n      <th>Longtitude</th>\n      <th>Regionname</th>\n      <th>Propertycount</th>\n    </tr>\n  </thead>\n  <tbody>\n    <tr>\n      <th>0</th>\n      <td>0</td>\n      <td>2</td>\n      <td>0</td>\n      <td>1480000.0</td>\n      <td>1</td>\n      <td>23</td>\n      <td>2.5</td>\n      <td>53</td>\n      <td>2.0</td>\n      <td>1.0</td>\n      <td>1.0</td>\n      <td>202.0</td>\n      <td>-37.7996</td>\n      <td>144.9984</td>\n      <td>2</td>\n      <td>4019.0</td>\n    </tr>\n    <tr>\n      <th>1</th>\n      <td>0</td>\n      <td>2</td>\n      <td>0</td>\n      <td>1035000.0</td>\n      <td>1</td>\n      <td>23</td>\n      <td>2.5</td>\n      <td>53</td>\n      <td>2.0</td>\n      <td>1.0</td>\n      <td>0.0</td>\n      <td>156.0</td>\n      <td>-37.8079</td>\n      <td>144.9934</td>\n      <td>2</td>\n      <td>4019.0</td>\n    </tr>\n    <tr>\n      <th>2</th>\n      <td>0</td>\n      <td>3</td>\n      <td>0</td>\n      <td>1465000.0</td>\n      <td>3</td>\n      <td>23</td>\n      <td>2.5</td>\n      <td>53</td>\n      <td>3.0</td>\n      <td>2.0</td>\n      <td>0.0</td>\n      <td>134.0</td>\n      <td>-37.8093</td>\n      <td>144.9944</td>\n      <td>2</td>\n      <td>4019.0</td>\n    </tr>\n    <tr>\n      <th>3</th>\n      <td>0</td>\n      <td>3</td>\n      <td>0</td>\n      <td>850000.0</td>\n      <td>0</td>\n      <td>23</td>\n      <td>2.5</td>\n      <td>53</td>\n      <td>3.0</td>\n      <td>2.0</td>\n      <td>1.0</td>\n      <td>94.0</td>\n      <td>-37.7969</td>\n      <td>144.9969</td>\n      <td>2</td>\n      <td>4019.0</td>\n    </tr>\n    <tr>\n      <th>4</th>\n      <td>0</td>\n      <td>4</td>\n      <td>0</td>\n      <td>1600000.0</td>\n      <td>4</td>\n      <td>155</td>\n      <td>2.5</td>\n      <td>53</td>\n      <td>3.0</td>\n      <td>1.0</td>\n      <td>2.0</td>\n      <td>120.0</td>\n      <td>-37.8072</td>\n      <td>144.9941</td>\n      <td>2</td>\n      <td>4019.0</td>\n    </tr>\n  </tbody>\n</table>\n</div>"
     },
     "metadata": {},
     "execution_count": 94
    }
   ],
   "source": [
    "data1['Suburb'] = lb.fit_transform(data1['Suburb']) \n",
    "data1['Type'] = lb.fit_transform(data1['Type'])\n",
    "data1['Method'] = lb.fit_transform(data1['Method'])\n",
    "data1['SellerG'] = lb.fit_transform(data1['SellerG'])\n",
    "data1['Regionname'] = lb.fit_transform(data1['Regionname'])\n",
    "data1['Postcode'] = lb.fit_transform(data1['Postcode'])\n",
    "data1.head()"
   ]
  },
  {
   "cell_type": "markdown",
   "metadata": {},
   "source": [
    "## Test Train Splits"
   ]
  },
  {
   "cell_type": "code",
   "execution_count": 95,
   "metadata": {},
   "outputs": [],
   "source": [
    "y = data1.iloc[:, 3].values"
   ]
  },
  {
   "cell_type": "code",
   "execution_count": 96,
   "metadata": {},
   "outputs": [],
   "source": [
    "X = data1.drop(['Price'],axis=1).values"
   ]
  },
  {
   "cell_type": "code",
   "execution_count": 97,
   "metadata": {},
   "outputs": [
    {
     "output_type": "execute_result",
     "data": {
      "text/plain": "(13580, 15)"
     },
     "metadata": {},
     "execution_count": 97
    }
   ],
   "source": [
    "X.shape"
   ]
  },
  {
   "cell_type": "code",
   "execution_count": 98,
   "metadata": {},
   "outputs": [],
   "source": [
    "from sklearn.preprocessing import StandardScaler\n",
    "sc_X = StandardScaler()\n",
    "X = sc_X.fit_transform(X)"
   ]
  },
  {
   "cell_type": "code",
   "execution_count": 99,
   "metadata": {},
   "outputs": [],
   "source": [
    "from sklearn.model_selection import train_test_split"
   ]
  },
  {
   "cell_type": "code",
   "execution_count": 100,
   "metadata": {},
   "outputs": [
    {
     "output_type": "execute_result",
     "data": {
      "text/plain": "((10864, 15), (2716, 15))"
     },
     "metadata": {},
     "execution_count": 100
    }
   ],
   "source": [
    "x_train, x_test, y_train, y_test = train_test_split(X, y, test_size = 0.2, random_state=0)\n",
    "x_train.shape, x_test.shape"
   ]
  },
  {
   "cell_type": "markdown",
   "metadata": {},
   "source": [
    "## Model Building"
   ]
  },
  {
   "cell_type": "markdown",
   "metadata": {},
   "source": [
    "Here in building my model I'm using Polynomial Multiple Linear Regresssion with a degree of 3."
   ]
  },
  {
   "cell_type": "code",
   "execution_count": 101,
   "metadata": {},
   "outputs": [],
   "source": [
    "from sklearn.linear_model import LinearRegression\n",
    "from sklearn.preprocessing import PolynomialFeatures\n",
    "poly = PolynomialFeatures(degree=3)\n",
    "lr = LinearRegression(normalize = False)"
   ]
  },
  {
   "cell_type": "code",
   "execution_count": 102,
   "metadata": {},
   "outputs": [
    {
     "output_type": "execute_result",
     "data": {
      "text/plain": "LinearRegression(copy_X=True, fit_intercept=True, n_jobs=None, normalize=False)"
     },
     "metadata": {},
     "execution_count": 102
    }
   ],
   "source": [
    "lr.fit(poly.fit_transform(x_train),y_train)"
   ]
  },
  {
   "cell_type": "code",
   "execution_count": 103,
   "metadata": {},
   "outputs": [],
   "source": [
    "pred = lr.predict(poly.fit_transform(x_test))"
   ]
  },
  {
   "cell_type": "code",
   "execution_count": 104,
   "metadata": {},
   "outputs": [
    {
     "output_type": "execute_result",
     "data": {
      "text/plain": "0.7092645239933695"
     },
     "metadata": {},
     "execution_count": 104
    }
   ],
   "source": [
    "from sklearn.metrics import r2_score\n",
    "r2_score(y_test,pred)"
   ]
  },
  {
   "cell_type": "code",
   "execution_count": null,
   "metadata": {},
   "outputs": [],
   "source": []
  }
 ]
}
